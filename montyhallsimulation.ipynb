{
 "cells": [
  {
   "cell_type": "markdown",
   "metadata": {},
   "source": [
    "# Monty Hall paradox simulator\n",
    "The goal is to visualize the paradox with brute force. The only way Erdős could have been convinced. :) Just kidding. It is to show the distribution of a large series of random selections.\n",
    "\n",
    "## The problem\n",
    "You are given with 3 closed doors. Two of them has a low value item (a goat) while one of them has a high value item (an automobile). The player selects one. Then the game show host (Monty Hall) opens the unselected door that hides a goat. Now is it worth changing doors?\n",
    "## The intuition\n",
    "Many mathematicians (including Erdős) fell to this trap: there's no use changing doors as now the chances are 1/2 for winning.\n",
    "## The real deal\n",
    "Originally the player had 1/3 of a chance to guess the car right, and the other two doors COMBINED had a 2/3 chance to contain the car. Once one of the non-selected doors is open, the player's door has a 1/3 chance, while de other closed door has a 2/3 chance all of sudden. So yes, it's worth changing. (Althouh a 66.6% chance is still quite slim but twice as likely as the previous door.)\n",
    "## The extention\n",
    "It's easier to understand if there are not only 3 but a lot of more doors. And all but one of the non-selected ones are open. "
   ]
  },
  {
   "cell_type": "markdown",
   "metadata": {},
   "source": [
    "### Import necessary libraries"
   ]
  },
  {
   "cell_type": "code",
   "execution_count": 270,
   "metadata": {},
   "outputs": [],
   "source": [
    "import random"
   ]
  },
  {
   "cell_type": "markdown",
   "metadata": {},
   "source": [
    "### I arbitrarily set up the doors for the plater. The first one has the car, the rest of them has the goats. (Car is True, goats are False, although I'd prefer a cute little goat to a car.)"
   ]
  },
  {
   "cell_type": "code",
   "execution_count": 271,
   "metadata": {},
   "outputs": [],
   "source": [
    "door_dict = {\n",
    "    \"door_A\": True,\n",
    "    \"door_B\": False,\n",
    "    \"door_C\": False,\n",
    "}"
   ]
  },
  {
   "cell_type": "markdown",
   "metadata": {},
   "source": [
    "### Make the player choose one door. (Pick a random element from the doors list.)"
   ]
  },
  {
   "cell_type": "code",
   "execution_count": 272,
   "metadata": {},
   "outputs": [
    {
     "name": "stdout",
     "output_type": "stream",
     "text": [
      "door_C\n",
      "['door_A', 'door_B']\n"
     ]
    }
   ],
   "source": [
    "door_list = list(door_dict.keys())\n",
    "first_pick = random.choice(list(door_list))\n",
    "print(first_pick)\n",
    "\n",
    "other_doors = []\n",
    "for door in door_list:\n",
    "    if door != first_pick:\n",
    "        other_doors.append(door)\n",
    "print(other_doors)"
   ]
  },
  {
   "cell_type": "markdown",
   "metadata": {},
   "source": [
    "### I open a non-winning door other than first_pick.\n",
    "Eliminating one from the list. Technically, given that there are only 3 doors, if the player picks B or C, I leaven only A closed. If she picks A I could either leave B or C closed but it doesn't matter, so I just always eliminate B in this case."
   ]
  },
  {
   "cell_type": "code",
   "execution_count": 273,
   "metadata": {},
   "outputs": [
    {
     "data": {
      "text/plain": [
       "['door_A']"
      ]
     },
     "execution_count": 273,
     "metadata": {},
     "output_type": "execute_result"
    }
   ],
   "source": [
    "for i in other_doors:\n",
    "    if door_dict[i] == False:\n",
    "        other_doors.remove(i)\n",
    "\n",
    "other_doors"
   ]
  },
  {
   "cell_type": "markdown",
   "metadata": {},
   "source": [
    "### Now I let player decide if she wants to switch."
   ]
  },
  {
   "cell_type": "code",
   "execution_count": 274,
   "metadata": {},
   "outputs": [
    {
     "name": "stdout",
     "output_type": "stream",
     "text": [
      "The original choice was: door_C\n",
      "Then switch was: False\n",
      "So the final answer is: door_C\n"
     ]
    }
   ],
   "source": [
    "print(\"The original choice was: \" + first_pick)\n",
    "    \n",
    "switch = bool(random.getrandbits(1))\n",
    "print(\"Then switch was: \" + str(switch))\n",
    "if switch == True:\n",
    "    first_pick = other_doors[0]\n",
    "\n",
    "print(\"So the final answer is: \" + first_pick)"
   ]
  }
 ],
 "metadata": {
  "kernelspec": {
   "display_name": "Python 3.9.6 64-bit",
   "language": "python",
   "name": "python3"
  },
  "language_info": {
   "codemirror_mode": {
    "name": "ipython",
    "version": 3
   },
   "file_extension": ".py",
   "mimetype": "text/x-python",
   "name": "python",
   "nbconvert_exporter": "python",
   "pygments_lexer": "ipython3",
   "version": "3.9.6"
  },
  "orig_nbformat": 4,
  "vscode": {
   "interpreter": {
    "hash": "31f2aee4e71d21fbe5cf8b01ff0e069b9275f58929596ceb00d14d90e3e16cd6"
   }
  }
 },
 "nbformat": 4,
 "nbformat_minor": 2
}
